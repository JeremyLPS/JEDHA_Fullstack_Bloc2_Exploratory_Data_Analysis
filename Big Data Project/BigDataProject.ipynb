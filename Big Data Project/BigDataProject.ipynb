{
 "cells": [
  {
   "cell_type": "markdown",
   "id": "69dfa654-f4ac-42d3-b5d1-511bc7e027a3",
   "metadata": {},
   "source": [
    "**Here is the link to my notebook for Steam Big Data project** \n",
    "\n",
    "https://databricks-prod-cloudfront.cloud.databricks.com/public/4027ec902e239c93eaaa8714f173bcfc/4069592114008905/1628423832626084/5596660305367911/latest.html"
   ]
  }
 ],
 "metadata": {
  "kernelspec": {
   "display_name": "Python 3 (ipykernel)",
   "language": "python",
   "name": "python3"
  },
  "language_info": {
   "codemirror_mode": {
    "name": "ipython",
    "version": 3
   },
   "file_extension": ".py",
   "mimetype": "text/x-python",
   "name": "python",
   "nbconvert_exporter": "python",
   "pygments_lexer": "ipython3",
   "version": "3.11.5"
  }
 },
 "nbformat": 4,
 "nbformat_minor": 5
}
